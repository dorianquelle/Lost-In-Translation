{
 "cells": [
  {
   "cell_type": "code",
   "execution_count": null,
   "metadata": {},
   "outputs": [],
   "source": [
    "import pandas as pd\n",
    "df = pd.read_csv(\"../Data/df_with_clusters_local_translated_with_clusters.csv\")\n",
    "text = df[\"claimReviewed\"]"
   ]
  },
  {
   "cell_type": "code",
   "execution_count": null,
   "metadata": {},
   "outputs": [],
   "source": [
    "from google.cloud import translate_v3 as translate\n",
    "from google.oauth2 import service_account\n",
    "from concurrent.futures import ThreadPoolExecutor, as_completed\n",
    "import os\n",
    "from tqdm import tqdm\n",
    "\n",
    "os.environ[\"GOOGLE_APPLICATION_CREDENTIALS\"] = \"XXX\"\n",
    "\n",
    "def translate_text(client, parent, sentence, target_language):\n",
    "    try:\n",
    "        response = client.translate_text(\n",
    "            request={\n",
    "                \"parent\": parent,\n",
    "                \"contents\": [sentence],\n",
    "                \"mime_type\": \"text/plain\",\n",
    "                \"target_language_code\": target_language,\n",
    "            }\n",
    "        )\n",
    "        return sentence, response.translations[0].translated_text\n",
    "    except Exception as e:\n",
    "        # You can log the error here or handle it as per your requirements\n",
    "        print(f\"Error translating '{sentence}': {e}\")\n",
    "        return sentence, None\n",
    "\n",
    "def translate_sentences(sentences, target_language, num_workers=5):\n",
    "    credentials = service_account.Credentials.from_service_account_file(\n",
    "        os.environ[\"GOOGLE_APPLICATION_CREDENTIALS\"]\n",
    "    )\n",
    "\n",
    "    client = translate.TranslationServiceClient(credentials=credentials)\n",
    "    project_id = \"XXX\"\n",
    "    parent = f\"projects/{project_id}/locations/global\"\n",
    "\n",
    "    # Using a dictionary to map original to translated sentences\n",
    "    translations = {}\n",
    "\n",
    "    with ThreadPoolExecutor(max_workers=num_workers) as executor:\n",
    "        # Submit all translation tasks concurrently\n",
    "        future_to_sentence = {\n",
    "            executor.submit(translate_text, client, parent, sentence, target_language): sentence\n",
    "            for sentence in sentences\n",
    "        }\n",
    "        \n",
    "        # As each translation completes, record it in the translations dictionary\n",
    "        for future in tqdm(as_completed(future_to_sentence)):\n",
    "            original = future_to_sentence[future]\n",
    "            try:\n",
    "                _, translation = future.result()\n",
    "                translations[original] = translation\n",
    "            except Exception as exc:\n",
    "                print(f\"An error occurred with sentence '{original}': {exc}\")\n",
    "                translations[original] = None\n",
    "\n",
    "    return translations\n",
    "\n",
    "# Example usage\n",
    "translated_dict = translate_sentences(\n",
    "    text,\n",
    "    'en'\n",
    ")\n",
    "\n",
    "df[\"tranlated_claimReviewed\"] = df[\"claimReviewed\"].map(translated_dict)\n",
    "df.to_csv(\"../Data/df_with_clusters_local_translated_with_clusters.csv\", index=False)"
   ]
  }
 ],
 "metadata": {
  "kernelspec": {
   "display_name": "Python 3",
   "language": "python",
   "name": "python3"
  },
  "language_info": {
   "codemirror_mode": {
    "name": "ipython",
    "version": 3
   },
   "file_extension": ".py",
   "mimetype": "text/x-python",
   "name": "python",
   "nbconvert_exporter": "python",
   "pygments_lexer": "ipython3",
   "version": "3.11.5"
  }
 },
 "nbformat": 4,
 "nbformat_minor": 2
}
